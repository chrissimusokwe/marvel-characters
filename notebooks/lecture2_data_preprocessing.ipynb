{
 "cells": [
  {
   "cell_type": "markdown",
   "id": "41895b9f",
   "metadata": {},
   "source": [
    "# Marvel Characters Data Preprocessing\n",
    "\n",
    "This notebook loads and preprocesses the Marvel characters dataset using PySpark and custom data processing classes."
   ]
  },
  {
   "cell_type": "code",
   "execution_count": null,
   "id": "799e1529",
   "metadata": {},
   "outputs": [],
   "source": [
    "# Install the package in development mode\n",
    "!pip install -e .."
   ]
  },
  {
   "cell_type": "code",
   "execution_count": null,
   "id": "9690647c",
   "metadata": {},
   "outputs": [],
   "source": [
    "# Optional: Add the src directory to the path if needed\n",
    "# from pathlib import Path\n",
    "# import sys\n",
    "# sys.path.append(str(Path.cwd().parent / 'src'))"
   ]
  },
  {
   "cell_type": "code",
   "execution_count": null,
   "id": "3bb89756",
   "metadata": {},
   "outputs": [],
   "source": [
    "import pandas as pd\n",
    "import yaml\n",
    "from loguru import logger\n",
    "from pyspark.sql import SparkSession\n",
    "\n",
    "from marvel_characters.config import ProjectConfig\n",
    "from marvel_characters.data_processor import DataProcessor\n",
    "\n",
    "# Load configuration\n",
    "config = ProjectConfig.from_yaml(config_path=\"../project_config_marvel.yml\", env=\"dev\")\n",
    "\n",
    "logger.info(\"Configuration loaded:\")\n",
    "logger.info(yaml.dump(config, default_flow_style=False))"
   ]
  },
  {
   "cell_type": "code",
   "execution_count": null,
   "id": "abe96da0",
   "metadata": {},
   "outputs": [],
   "source": [
    "# Load the Marvel characters dataset\n",
    "spark = SparkSession.builder.getOrCreate()\n",
    "\n",
    "filepath = \"../data/marvel_characters_dataset.csv\"\n",
    "\n",
    "# Load the data\n",
    "df = pd.read_csv(filepath)\n",
    "\n",
    "# Display basic info about the dataset\n",
    "logger.info(f\"Dataset shape: {df.shape}\")\n",
    "logger.info(f\"Columns: {list(df.columns)}\")\n",
    "logger.info(f\"Target column '{config.target}' distribution:\")\n",
    "logger.info(df[config.target].value_counts())"
   ]
  },
  {
   "cell_type": "code",
   "execution_count": null,
   "id": "0d8fc4e7",
   "metadata": {},
   "outputs": [],
   "source": [
    "# Create data processor and preprocess the data\n",
    "data_processor = DataProcessor(df, config, spark)\n",
    "\n",
    "# Preprocess the data\n",
    "data_processor.preprocess()\n",
    "\n",
    "logger.info(f\"Data preprocessing completed.\")"
   ]
  },
  {
   "cell_type": "code",
   "execution_count": null,
   "id": "d91f3f28",
   "metadata": {},
   "outputs": [],
   "source": [
    "# Split the data\n",
    "X_train, X_test = data_processor.split_data()\n",
    "logger.info(\"Training set shape: %s\", X_train.shape)\n",
    "logger.info(\"Test set shape: %s\", X_test.shape)"
   ]
  },
  {
   "cell_type": "code",
   "execution_count": null,
   "id": "cc4566e1",
   "metadata": {},
   "outputs": [],
   "source": [
    "# Save to catalog\n",
    "logger.info(\"Saving data to catalog\")\n",
    "data_processor.save_to_catalog(X_train, X_test)\n",
    "\n",
    "# Enable change data feed (only once!)\n",
    "logger.info(\"Enable change data feed\")\n",
    "data_processor.enable_change_data_feed()"
   ]
  }
 ],
 "metadata": {
  "language_info": {
   "name": "python"
  }
 },
 "nbformat": 4,
 "nbformat_minor": 5
}
